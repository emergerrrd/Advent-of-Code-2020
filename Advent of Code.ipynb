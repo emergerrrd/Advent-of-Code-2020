{
 "metadata": {
  "language_info": {
   "codemirror_mode": {
    "name": "ipython",
    "version": 3
   },
   "file_extension": ".py",
   "mimetype": "text/x-python",
   "name": "python",
   "nbconvert_exporter": "python",
   "pygments_lexer": "ipython3",
   "version": "3.7.3-final"
  },
  "orig_nbformat": 2,
  "kernelspec": {
   "name": "python3",
   "display_name": "Python 3"
  }
 },
 "nbformat": 4,
 "nbformat_minor": 2,
 "cells": [
  {
   "source": [
    "# Day 1"
   ],
   "cell_type": "markdown",
   "metadata": {}
  },
  {
   "cell_type": "code",
   "execution_count": 8,
   "metadata": {
    "tags": []
   },
   "outputs": [
    {
     "output_type": "stream",
     "name": "stdout",
     "text": [
      "Day 1 p1\n",
      "1018 1002\n",
      "1020036\n",
      "1002 1018\n",
      "1020036\n",
      "Day 1 p2\n",
      "522 855 643\n",
      "286977330\n",
      "522 643 855\n",
      "286977330\n",
      "855 522 643\n",
      "286977330\n",
      "855 643 522\n",
      "286977330\n",
      "643 522 855\n",
      "286977330\n",
      "643 855 522\n",
      "286977330\n"
     ]
    }
   ],
   "source": [
    "input = open(\"Day 1 input.txt\", \"r\")\n",
    "list = input.read().splitlines()\n",
    "\n",
    "print('Day 1 p1')\n",
    "for i in range(len(list)):\n",
    "    for j in range(len(list)):\n",
    "        if int(list[i]) + int(list[j]) == 2020:\n",
    "            print(list[i], list[j])\n",
    "            print(int(list[i]) * int(list[j]))\n",
    "        j+=1\n",
    "    i+=1\n",
    "\n",
    "print('Day 1 p2')\n",
    "for i in range(len(list)):\n",
    "    for j in range(len(list)):\n",
    "        for k in range(len(list)):\n",
    "            if int(list[i]) + int(list[j]) + int(list[k]) == 2020:\n",
    "                print(list[i], list[j], list[k])\n",
    "                print(int(list[i]) * int(list[j]) * int(list[k]))\n",
    "            k+=1\n",
    "        j+=1\n",
    "    i+=1\n",
    "\n",
    "input.close()"
   ]
  },
  {
   "source": [
    "# Day 2"
   ],
   "cell_type": "markdown",
   "metadata": {}
  },
  {
   "cell_type": "code",
   "execution_count": 9,
   "metadata": {},
   "outputs": [],
   "source": [
    "input.close()"
   ]
  },
  {
   "cell_type": "code",
   "execution_count": null,
   "metadata": {},
   "outputs": [],
   "source": []
  }
 ]
}