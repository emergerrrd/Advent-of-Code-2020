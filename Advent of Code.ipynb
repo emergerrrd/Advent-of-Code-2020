{
 "metadata": {
  "language_info": {
   "codemirror_mode": {
    "name": "ipython",
    "version": 3
   },
   "file_extension": ".py",
   "mimetype": "text/x-python",
   "name": "python",
   "nbconvert_exporter": "python",
   "pygments_lexer": "ipython3",
   "version": "3.7.6-final"
  },
  "orig_nbformat": 2,
  "kernelspec": {
   "name": "python3",
   "display_name": "Python 3"
  }
 },
 "nbformat": 4,
 "nbformat_minor": 2,
 "cells": [
  {
   "source": [
    "# Day 1"
   ],
   "cell_type": "markdown",
   "metadata": {}
  },
  {
   "cell_type": "code",
   "execution_count": 13,
   "metadata": {
    "tags": []
   },
   "outputs": [
    {
     "output_type": "stream",
     "name": "stdout",
     "text": [
      "1018 1002\n1020036\n1002 1018\n1020036\n"
     ]
    }
   ],
   "source": [
    "input = open(\"Day 1 input.txt\", \"r\")\n",
    "list = input.read().splitlines()\n",
    "\n",
    "for i in range(len(list)):\n",
    "    for j in range(len(list)):\n",
    "        if int(list[i]) + int(list[j]) == 2020:\n",
    "            print(list[i], list[j])\n",
    "            print(int(list[i]) * int(list[j]))\n",
    "        j+=1\n",
    "    i+=1"
   ]
  },
  {
   "source": [
    "# Day 2"
   ],
   "cell_type": "markdown",
   "metadata": {}
  },
  {
   "cell_type": "code",
   "execution_count": null,
   "metadata": {},
   "outputs": [],
   "source": []
  }
 ]
}