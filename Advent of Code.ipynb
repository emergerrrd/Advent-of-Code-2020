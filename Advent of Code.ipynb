{
 "metadata": {
  "language_info": {
   "codemirror_mode": {
    "name": "ipython",
    "version": 3
   },
   "file_extension": ".py",
   "mimetype": "text/x-python",
   "name": "python",
   "nbconvert_exporter": "python",
   "pygments_lexer": "ipython3",
   "version": "3.7.6-final"
  },
  "orig_nbformat": 2,
  "kernelspec": {
   "name": "python3",
   "display_name": "Python 3"
  }
 },
 "nbformat": 4,
 "nbformat_minor": 2,
 "cells": [
  {
   "source": [
    "# Day 1"
   ],
   "cell_type": "markdown",
   "metadata": {}
  },
  {
   "cell_type": "code",
   "execution_count": 3,
   "metadata": {
    "tags": []
   },
   "outputs": [
    {
     "output_type": "stream",
     "name": "stdout",
     "text": [
      "Entries: 200\n",
      "Day 1 p1\n",
      "Entries with correct sum: 1018 1002\n",
      "Answer: 1020036\n",
      "\n",
      "Day 1 p2\n",
      "Entries with correct sum: 522 855 643\n",
      "Answer: 286977330\n"
     ]
    }
   ],
   "source": [
    "input = open(\"Input\\Day 1.txt\", \"r\")\n",
    "list = input.read().splitlines()\n",
    "input.close()\n",
    "\n",
    "print('Entries:', len(list))\n",
    "\n",
    "################## Part 1 ##################\n",
    "print('Day 1 p1')\n",
    "product = 0\n",
    "i = 0\n",
    "\n",
    "while i in range(len(list)) and product == 0:\n",
    "    j = 0\n",
    "    while j in range(len(list)) and product == 0:\n",
    "        if int(list[i]) + int(list[j]) == 2020:\n",
    "            product = int(list[i]) * int(list[j])\n",
    "            print('Entries with correct sum:', list[i], list[j])\n",
    "            print('Answer:', product)\n",
    "        j+=1\n",
    "    i+=1\n",
    "\n",
    "################## Part 2 ##################\n",
    "print('\\nDay 1 p2')\n",
    "product = 0\n",
    "i = 0\n",
    "\n",
    "while i in range(len(list)) and product == 0:\n",
    "    j = 0\n",
    "    while j in range(len(list)) and product == 0:\n",
    "        k = 0\n",
    "        while k in range(len(list)) and product == 0:\n",
    "            if int(list[i]) + int(list[j]) + int(list[k]) == 2020:\n",
    "                product = int(list[i]) * int(list[j]) * int(list[k])\n",
    "                print('Entries with correct sum:', list[i], list[j], list[k])\n",
    "                print('Answer:', product)\n",
    "                break\n",
    "            k+=1\n",
    "        j+=1\n",
    "    i+=1"
   ]
  },
  {
   "source": [
    "# Day 2"
   ],
   "cell_type": "markdown",
   "metadata": {}
  },
  {
   "cell_type": "code",
   "execution_count": 4,
   "metadata": {
    "tags": []
   },
   "outputs": [
    {
     "output_type": "stream",
     "name": "stdout",
     "text": [
      "Entries: 1000\nDay 2 p1\n622 passwords are valid\nDay 2 p2\n263 passwords are valid\n"
     ]
    }
   ],
   "source": [
    "input = open(\"Input\\Day 2.txt\", \"r\")\n",
    "list = input.read().splitlines()\n",
    "input.close()\n",
    "\n",
    "print('Entries:', len(list))\n",
    "\n",
    "################## Part 1 ##################\n",
    "print('Day 2 p1')\n",
    "valid_count = 0\n",
    "\n",
    "for i in list:\n",
    "    # Get necessary details from input\n",
    "    char_count = 0\n",
    "    valid = False\n",
    "    policy, pword = i.split(':')\n",
    "    policy, policy_char = policy.split(' ')\n",
    "    min, max = policy.split('-')\n",
    "\n",
    "    # Make necessary conversions\n",
    "    min = int(min)\n",
    "    max = int(max)\n",
    "\n",
    "    # Count the number of policy characters in the password\n",
    "    for j in pword:\n",
    "        if j == policy_char:\n",
    "            char_count += 1\n",
    "        \n",
    "    # Check if password is valid\n",
    "    if char_count >= min and char_count <= max:\n",
    "        valid_count += 1\n",
    "        valid = True\n",
    "        # print(min, max, policy_char, pword, valid)    \n",
    "\n",
    "# Output results\n",
    "print(valid_count, 'passwords are valid')\n",
    "\n",
    "################## Part 2 ##################\n",
    "print('\\nDay 2 p2')\n",
    "valid_count = 0\n",
    "\n",
    "for i in list:\n",
    "    # Get necessary details from input\n",
    "    match_count = 0\n",
    "    valid = False\n",
    "    policy, pword = i.split(':')\n",
    "    policy, policy_char = policy.split(' ')\n",
    "    char1, char2 = policy.split('-')\n",
    "\n",
    "    # Make necessary conversions\n",
    "    char1 = int(char1)\n",
    "    char2 = int(char2)\n",
    "\n",
    "    # Count the number of policy character matches\n",
    "    if pword[char1] == policy_char:\n",
    "        match_count += 1\n",
    "    if pword[char2] == policy_char:\n",
    "        match_count += 1\n",
    "\n",
    "    # Check if password is valid\n",
    "    if match_count == 1:\n",
    "        valid_count += 1\n",
    "        valid = True\n",
    "        # print(char1, char2, policy_char, pword, valid)\n",
    "\n",
    "# Output results\n",
    "print(valid_count, 'passwords are valid')"
   ]
  },
  {
   "cell_type": "code",
   "execution_count": null,
   "metadata": {},
   "outputs": [],
   "source": []
  }
 ]
}