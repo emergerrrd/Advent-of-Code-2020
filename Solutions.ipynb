{
 "metadata": {
  "language_info": {
   "codemirror_mode": {
    "name": "ipython",
    "version": 3
   },
   "file_extension": ".py",
   "mimetype": "text/x-python",
   "name": "python",
   "nbconvert_exporter": "python",
   "pygments_lexer": "ipython3",
   "version": "3.7.6-final"
  },
  "orig_nbformat": 2,
  "kernelspec": {
   "name": "python3",
   "display_name": "Python 3"
  }
 },
 "nbformat": 4,
 "nbformat_minor": 2,
 "cells": [
  {
   "source": [
    "# Day 1"
   ],
   "cell_type": "markdown",
   "metadata": {}
  },
  {
   "cell_type": "code",
   "execution_count": 66,
   "metadata": {
    "tags": []
   },
   "outputs": [
    {
     "output_type": "stream",
     "name": "stdout",
     "text": [
      "Entries: 200\n",
      "Day 1 p1\n",
      "Entries with correct sum: 1018 1002\n",
      "Product: 1020036\n",
      "Day 1 p2\n",
      "Entries with correct sum: 522 855 643\n",
      "Product: 286977330\n"
     ]
    }
   ],
   "source": [
    "file = open(\"Input\\Day 1.txt\", \"r\")\n",
    "input = file.read().splitlines()\n",
    "file.close()\n",
    "\n",
    "print('Rows:', len(input))\n",
    "\n",
    "################## Part 1 ##################\n",
    "print('Day 1 p1')\n",
    "product = 0\n",
    "i = 0\n",
    "\n",
    "while i in range(len(input)) and product == 0:\n",
    "    j = 0\n",
    "    while j in range(len(input)) and product == 0:\n",
    "        if int(input[i]) + int(input[j]) == 2020:\n",
    "            product = int(input[i]) * int(input[j])\n",
    "            print('Entries with correct sum:', input[i], input[j])\n",
    "\n",
    "            # Output results\n",
    "            print('Product:', product)\n",
    "        j+=1\n",
    "    i+=1\n",
    "\n",
    "################## Part 2 ##################\n",
    "print('Day 1 p2')\n",
    "product = 0\n",
    "i = 0\n",
    "\n",
    "while i in range(len(input)) and product == 0:\n",
    "    j = 0\n",
    "    while j in range(len(input)) and product == 0:\n",
    "        k = 0\n",
    "        while k in range(len(input)) and product == 0:\n",
    "            if int(input[i]) + int(input[j]) + int(input[k]) == 2020:\n",
    "                product = int(input[i]) * int(input[j]) * int(input[k])\n",
    "                print('Entries with correct sum:', input[i], input[j], input[k])\n",
    "\n",
    "                # Output results\n",
    "                print('Product:', product)\n",
    "                break\n",
    "            k+=1\n",
    "        j+=1\n",
    "    i+=1"
   ]
  },
  {
   "source": [
    "# Day 2"
   ],
   "cell_type": "markdown",
   "metadata": {}
  },
  {
   "cell_type": "code",
   "execution_count": 6,
   "metadata": {
    "tags": []
   },
   "outputs": [
    {
     "output_type": "stream",
     "name": "stdout",
     "text": [
      "Entries: 1000\nDay 2 p1\n622 passwords are valid\nDay 2 p2\n263 passwords are valid\n"
     ]
    }
   ],
   "source": [
    "file = open(\"Input\\Day 2.txt\", \"r\")\n",
    "input = file.read().splitlines()\n",
    "file.close()\n",
    "\n",
    "print('Rows:', len(input))\n",
    "\n",
    "################## Part 1 ##################\n",
    "print('Day 2 p1')\n",
    "valid_count = 0\n",
    "\n",
    "for i in input:\n",
    "    # Get necessary details from input\n",
    "    char_count = 0\n",
    "    valid = False\n",
    "    policy, pword = i.split(':')\n",
    "    policy, policy_char = policy.split(' ')\n",
    "    min, max = policy.split('-')\n",
    "\n",
    "    # Make necessary conversions\n",
    "    min = int(min)\n",
    "    max = int(max)\n",
    "\n",
    "    # Count the number of policy characters in the password\n",
    "    for j in pword:\n",
    "        if j == policy_char:\n",
    "            char_count += 1\n",
    "        \n",
    "    # Check if password is valid\n",
    "    if char_count >= min and char_count <= max:\n",
    "        valid_count += 1\n",
    "        valid = True\n",
    "        # print(min, max, policy_char, pword, valid)    \n",
    "\n",
    "# Output results\n",
    "print(valid_count, 'passwords are valid')\n",
    "\n",
    "################## Part 2 ##################\n",
    "print('Day 2 p2')\n",
    "valid_count = 0\n",
    "\n",
    "for i in input:\n",
    "    # Get necessary details from input\n",
    "    match_count = 0\n",
    "    valid = False\n",
    "    policy, pword = i.split(':')\n",
    "    policy, policy_char = policy.split(' ')\n",
    "    char1, char2 = policy.split('-')\n",
    "\n",
    "    # Make necessary conversions\n",
    "    char1 = int(char1)\n",
    "    char2 = int(char2)\n",
    "\n",
    "    # Count the number of policy character matches\n",
    "    if pword[char1] == policy_char:\n",
    "        match_count += 1\n",
    "    if pword[char2] == policy_char:\n",
    "        match_count += 1\n",
    "\n",
    "    # Check if password is valid\n",
    "    if match_count == 1:\n",
    "        valid_count += 1\n",
    "        valid = True\n",
    "        # print(char1, char2, policy_char, pword, valid)\n",
    "\n",
    "# Output results\n",
    "print(valid_count, 'passwords are valid')"
   ]
  },
  {
   "source": [
    "# Day 3"
   ],
   "cell_type": "markdown",
   "metadata": {}
  },
  {
   "cell_type": "code",
   "execution_count": 82,
   "metadata": {
    "tags": []
   },
   "outputs": [
    {
     "output_type": "stream",
     "name": "stdout",
     "text": [
      "Rows: 323\nDay 3 p1\nNo. of trees: 232\nDay 3 p2\nProduct: 3952291680\n"
     ]
    }
   ],
   "source": [
    "import pandas as pd\n",
    "\n",
    "file = open(\"Input\\Day 3.txt\", \"r\")\n",
    "input = file.read().splitlines()\n",
    "file.close()\n",
    "\n",
    "print('Rows:', len(input))\n",
    "\n",
    "################## Part 1 ##################\n",
    "print('Day 3 p1')\n",
    "\n",
    "# Define starting point\n",
    "x = 0\n",
    "y = 0\n",
    "tree_count = 0\n",
    "\n",
    "# Convert strings to lists then convert input to DF\n",
    "input = [list(row) for row in input]\n",
    "df = pd.DataFrame(input)\n",
    "\n",
    "# Iterate through all the rows in input\n",
    "for i in input:                         \n",
    "    for j in range(3):                  # Add horizontal movement\n",
    "        x+=1\n",
    "        if x > 30:\n",
    "            x = 0\n",
    "    \n",
    "    y+=1                                # Add vertical movement\n",
    "    if(y >= len(input)):                # Break if y reached the end\n",
    "        break\n",
    "\n",
    "    if df.iloc[y, x] == '#':            # Add tree count if new square is tree\n",
    "        tree_count += 1\n",
    "\n",
    "# Output results\n",
    "print('No. of trees:',tree_count)\n",
    "\n",
    "################## Part 2 ##################\n",
    "print('Day 3 p2')\n",
    "\n",
    "# Define output and slopes\n",
    "# DF in part 1 is used\n",
    "product = 1\n",
    "mov_x = [1, 3, 5, 7, 1]\n",
    "mov_y = [1, 1, 1, 1, 2]\n",
    "\n",
    "# Iterate through all slopes provided for part 2\n",
    "for slope in range(len(mov_x)):         \n",
    "    # Reset index for every slope\n",
    "    x = 0\n",
    "    y = 0\n",
    "    tree_count = 0\n",
    "    \n",
    "    # Iterate through all the rows in input\n",
    "    for i in input:                     \n",
    "        for j in range(mov_x[slope]):   # Add horizontal movement\n",
    "            x+=1\n",
    "            if x > 30:\n",
    "                x = 0\n",
    "        \n",
    "        y+=mov_y[slope]                 # Add vertical movement\n",
    "        \n",
    "        if(y >= len(input)):            # Break if y reached the end\n",
    "            break\n",
    "\n",
    "        if df.iloc[y, x] == '#':        # Add tree count if new square is tree,\n",
    "            tree_count += 1\n",
    "    product = product * tree_count\n",
    "\n",
    "# Output results\n",
    "print('Product:', product)"
   ]
  },
  {
   "cell_type": "code",
   "execution_count": null,
   "metadata": {},
   "outputs": [],
   "source": []
  }
 ]
}